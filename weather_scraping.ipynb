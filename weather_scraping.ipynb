{
 "cells": [
  {
   "cell_type": "markdown",
   "metadata": {},
   "source": [
    "# Extracting weather data using web API - Context Data Preprocessing"
   ]
  },
  {
   "cell_type": "markdown",
   "metadata": {},
   "source": [
    "First, this scrip contains the code that has been written to scrap  weather data from the web API : http://api.wunderground.com. \n",
    " \n",
    "The tidy data will be handled throught a data preprocessing step so that it would be ready to run with our training model.\n",
    "\n",
    "The location and the period pre-selected for this example are  Bordeaux and from 01/11/2017 to 02/11/2017 but these parameters can be tuned as you need.\n",
    "\n",
    "The code has been scheduled so that it is executed every 2 minutes since the  maximum number of queries is limited by the data owner.\n",
    "\n",
    "The result will be exported and saved under a csv file that can be directly put into our training model as one of inputs.\n"
   ]
  },
  {
   "cell_type": "code",
   "execution_count": 1,
   "metadata": {
    "collapsed": true
   },
   "outputs": [],
   "source": [
    "import numpy as np\n",
    "import pandas as pd\n",
    "import time\n",
    "import datetime \n",
    "from pandas.io.json import json_normalize\n",
    "import json, requests\n",
    "from urllib.request import urlopen\n",
    "import csv\n",
    "import smtplib "
   ]
  },
  {
   "cell_type": "markdown",
   "metadata": {},
   "source": [
    "Put dates of the period for which you want to get data under this format: YYYY, MM, DD"
   ]
  },
  {
   "cell_type": "code",
   "execution_count": 2,
   "metadata": {},
   "outputs": [
    {
     "name": "stdout",
     "output_type": "stream",
     "text": [
      "2017\n"
     ]
    }
   ],
   "source": [
    "start_year=int(input())"
   ]
  },
  {
   "cell_type": "code",
   "execution_count": 3,
   "metadata": {},
   "outputs": [
    {
     "name": "stdout",
     "output_type": "stream",
     "text": [
      "11\n"
     ]
    }
   ],
   "source": [
    "start_month=int(input())"
   ]
  },
  {
   "cell_type": "code",
   "execution_count": 4,
   "metadata": {},
   "outputs": [
    {
     "name": "stdout",
     "output_type": "stream",
     "text": [
      "1\n"
     ]
    }
   ],
   "source": [
    "start_date=int(input())"
   ]
  },
  {
   "cell_type": "code",
   "execution_count": 5,
   "metadata": {},
   "outputs": [
    {
     "name": "stdout",
     "output_type": "stream",
     "text": [
      "2018\n"
     ]
    }
   ],
   "source": [
    "end_year=int(input())"
   ]
  },
  {
   "cell_type": "code",
   "execution_count": 6,
   "metadata": {},
   "outputs": [
    {
     "name": "stdout",
     "output_type": "stream",
     "text": [
      "3\n"
     ]
    }
   ],
   "source": [
    "end_month=int(input())"
   ]
  },
  {
   "cell_type": "code",
   "execution_count": 7,
   "metadata": {},
   "outputs": [
    {
     "name": "stdout",
     "output_type": "stream",
     "text": [
      "20\n"
     ]
    }
   ],
   "source": [
    "end_date=int(input())"
   ]
  },
  {
   "cell_type": "code",
   "execution_count": 8,
   "metadata": {
    "collapsed": true
   },
   "outputs": [],
   "source": [
    "start_period = datetime.date(start_year,start_month,start_date)\n",
    "end_period   = datetime.date(end_year,end_month,end_date)\n",
    "dates_string = [ start_period + datetime.timedelta(n) for n in range(int ((end_period - start_period).days))]"
   ]
  },
  {
   "cell_type": "code",
   "execution_count": 9,
   "metadata": {
    "collapsed": true
   },
   "outputs": [],
   "source": [
    "dates_string=[dates_string[i].strftime('%Y%m%d') for i in range(len(dates_string))]"
   ]
  },
  {
   "cell_type": "markdown",
   "metadata": {},
   "source": [
    "Keep only the 2 first days of the period to make sense in this example"
   ]
  },
  {
   "cell_type": "code",
   "execution_count": 10,
   "metadata": {
    "collapsed": true
   },
   "outputs": [],
   "source": [
    "ds=dates_string[:3]"
   ]
  },
  {
   "cell_type": "code",
   "execution_count": 11,
   "metadata": {},
   "outputs": [
    {
     "data": {
      "text/plain": [
       "['20171101', '20171102', '20171103']"
      ]
     },
     "execution_count": 11,
     "metadata": {},
     "output_type": "execute_result"
    }
   ],
   "source": [
    "ds"
   ]
  },
  {
   "cell_type": "code",
   "execution_count": 12,
   "metadata": {
    "collapsed": true
   },
   "outputs": [],
   "source": [
    "# Create functions \n",
    "\n",
    "def replacesunday(row):\n",
    "    if row == 8:\n",
    "        return 1\n",
    "    else:\n",
    "        return row\n",
    "\n",
    "def sendemail(from_addr, to_addr_list, cc_addr_list,\n",
    "              subject, message,\n",
    "              login, password,\n",
    "              smtpserver='smtp.gmail.com:xxx'):\n",
    "    header  = 'From: %s\\n' % from_addr\n",
    "    header += 'To: %s\\n' % ','.join(to_addr_list)\n",
    "    header += 'Cc: %s\\n' % ','.join(cc_addr_list)\n",
    "    header += 'Subject: %s\\n\\n' % subject\n",
    "    message = header + message\n",
    " \n",
    "    server = smtplib.SMTP(smtpserver)\n",
    "    server.starttls()\n",
    "    server.login(login,password)\n",
    "    problems = server.sendmail(from_addr, to_addr_list, message)\n",
    "    server.quit()\n",
    "    return problems\n",
    "# sources: http://rosettacode.org/wiki/Send_email#Python\n",
    "\n",
    "\n",
    "a_day_off=['2016-03-28','2016-05-01','2016-05-05','2016-05-08','2016-05-16','2016-07-14','2016-08-15','2016-11-01',\n",
    "          '2016-11-11','2017-04-17','2017-05-01','2017-05-08','2017-05-25','2017-06-05','2017-07-14',\n",
    "           '2017-08-15','2017-11-01','2017-11-11','2018-01-01','2018-04-02','2018-05-01','2018-05-08','2018-05-10',\n",
    "          '20018-05-21','2018-07-14','2018-08-15','2018-11-01','2018-11-11','2018-12-25']\n",
    "before_a_day_off=['2016-03-27','2016-04-30','2016-05-04','2016-05-07','2016-05-15','2016-07-13','2016-08-14','2016-10-31',\n",
    "          '2016-11-10','2017-04-16','2017-04-30','2017-05-07','2017-05-24','2017-06-04','2017-07-13',\n",
    "           '2017-08-14','2017-10-31','2017-11-10','2017-12-31','2018-04-01','2018-04-30','2018-05-07','2018-05-09',\n",
    "          '20018-05-20','2018-07-13','2018-08-14','2018-11-01','2018-11-10','2018-12-24']\n",
    "\n",
    "def schedule(row):\n",
    "    \n",
    "    global val\n",
    "    \n",
    "    if row.strftime('%Y-%m-%d') in (a_day_off):\n",
    "        val='a_day_off'\n",
    "    elif row.strftime('%Y-%m-%d') in (before_a_day_off):\n",
    "        val='before_a_day_off'\n",
    "    elif datetime.date(2016,2,13)<row.date()<datetime.date(2016,2,29):\n",
    "        val='holidays'\n",
    "    elif datetime.date(2016,4,9)<row.date()<datetime.date(2016,4,25):\n",
    "        val='holidays'\n",
    "    elif datetime.date(2016,5,4)<row.date()<datetime.date(2016,5,9):\n",
    "        val='holidays'\n",
    "    elif datetime.date(2016,7,5)<row.date()<datetime.date(2016,9,1):\n",
    "        val='holidays'\n",
    "    elif datetime.date(2016,10,19)<row.date()<datetime.date(2016,11,3):\n",
    "        val='holidays'\n",
    "    elif datetime.date(2016,12,17)<row.date()<datetime.date(2017,1,3):\n",
    "        val='holidays'\n",
    "    elif datetime.date(2017,2,18)<row.date()<datetime.date(2017,3,6):\n",
    "        val='holidays'\n",
    "    elif datetime.date(2017,4,15)<row.date()<datetime.date(2017,5,2):\n",
    "        val='holidays'\n",
    "    elif datetime.date(2017,5,24)<row.date()<datetime.date(2017,5,29):\n",
    "        val='holidays'\n",
    "    elif datetime.date(2017,7,8)<row.date()<datetime.date(2017,9,4):\n",
    "        val='holidays'\n",
    "    elif datetime.date(2017,10,21)<row.date()<datetime.date(2017,11,6):\n",
    "        val='holidays'\n",
    "    elif datetime.date(2017,12,23)<row.date()<datetime.date(2018,1,8):\n",
    "        val='holidays'\n",
    "    elif datetime.date(2018,2,10)<row.date()< datetime.date(2018,2,26):\n",
    "        val='holidays'\n",
    "    elif datetime.date(2018,4,7)<row.date()<datetime.date(2018,4,23):\n",
    "        val= 'holidays'\n",
    "    elif datetime.date(2018,7,7)<row.date()<datetime.date(2018,9,3):\n",
    "        val='holidays'\n",
    "    elif datetime.date(2018,10,20)< row.date()< datetime.date(2018,11,5):\n",
    "        val= 'holidays'\n",
    "    elif datetime.date(2018,12,22)<row.date()<datetime.date(2019,1,7):\n",
    "        val='holidays'\n",
    "    else:\n",
    "        val='no_event'\n",
    "    return val\n",
    "        "
   ]
  },
  {
   "cell_type": "code",
   "execution_count": 13,
   "metadata": {},
   "outputs": [
    {
     "name": "stdout",
     "output_type": "stream",
     "text": [
      "End of Web scraping action\n"
     ]
    }
   ],
   "source": [
    "#In order to stay in touch with the execution of this code , we are going to send an email informing the start and another email for the end of the program. = 'atophan06@gmail.com',\n",
    "sendemail(from_addr    = 'youremail@gmail.com', \n",
    "          to_addr_list = ['youremail@xxx.fr'],\n",
    "          cc_addr_list = ['youremail@xxx.fr'], \n",
    "          subject      = ' Web scraping with python code', \n",
    "          message      = 'Howdy from a python function: \" Web scraping to get weather data has just started \"', \n",
    "          login        = 'youremail@gmail.com', \n",
    "          password     = 'yourpassword')\n",
    "starttime=time.time()\n",
    "while True:\n",
    "    with open(r'dates.csv', 'r') as f:\n",
    "        reader = csv.reader(f)\n",
    "        dat = list(reader)\n",
    "        row_num = len(dat)\n",
    "       \n",
    "    with open(r'dates.csv', 'a',newline='') as g, open(r'output.csv', 'a',newline='') as h :\n",
    "        writer = csv.writer(g) \n",
    "        #writerh = csv.writer(h)\n",
    "        if row_num <= len(ds):\n",
    "            writer.writerow([ds[row_num-1]])\n",
    "            url = (\"http://api.wunderground.com/api/PUTYOURKEYHERE/history_/q/FR/Bordeaux.json\" %ds[row_num-1] )\n",
    "            data=list()\n",
    "            dat1 = requests.get(url).json()  \n",
    "            data.append(json_normalize(dat1['history']['observations']))\n",
    "            data=pd.concat([data[i]for i in range(len(data))],axis=0, ignore_index=True)\n",
    "            data=data[['date.hour', 'date.min','date.mday', 'date.mon','date.pretty', 'date.year','tempm','hum','wdire','conds']]\n",
    "            data= data.copy()\n",
    "            data['date.pretty']=pd.to_datetime(data['date.pretty'])\n",
    "            data['DoW']=[data['date.pretty'][i].weekday()+2 for i in range(len(data['date.pretty']))]\n",
    "            data['DoW']=data['DoW'].apply(replacesunday)\n",
    "            data['WoY']=[data['date.pretty'][i].strftime(\"%U\") for i in range(len(data['date.pretty']))]\n",
    "            data['QoY']=[data['date.pretty'][i].to_period('Q') for i in range(len(data['date.pretty']))]\n",
    "            data['HMS']=[data['date.pretty'][i].strftime(\"%H:%M:%S\") for i in range(len(data['date.pretty']))]\n",
    "            data['Date']=[data['date.pretty'][i].strftime(\"%Y-%m-%d\") for i in range(len(data['date.pretty']))]\n",
    "            data=data.rename(columns={'date.hour':'H','date.mday':'DoM','date.mon':'MoY','date.pretty':'Time','tempm':'TemperatureC',\n",
    "                  'hum':'Humidity','wdire':'Wind_Direction','conds':'Conditions'})\n",
    "            data=data[['Time','TemperatureC','Humidity','Wind_Direction','Conditions','Date','DoW','DoM','WoY','MoY','QoY','H','HMS']]\n",
    "            data['Date']=pd.to_datetime(data['Date'])\n",
    "            data['schedule']=data['Date'].apply(schedule)\n",
    "            if row_num==1:\n",
    "                data.to_csv(h, header=True, index=False)\n",
    "            else:\n",
    "                data.to_csv(h, header=False, index= False)\n",
    "            time.sleep(120)\n",
    "            continue\n",
    "        else:\n",
    "            timedelta=(time.time()-starttime)/60\n",
    "            msg='Howdy from a python function: \" The weather data is now ready. The duration of code execution is %d  minutes. \"' %timedelta\n",
    "            sendemail(from_addr    = 'youremail@gmail.com', \n",
    "                      to_addr_list = ['youremail@xxx.fr'],\n",
    "                      cc_addr_list = ['youremail@xxx.fr'], \n",
    "                      subject      = ' Web scraping with python code', \n",
    "                      message      = msg \n",
    "                      login        = 'youremail@gmail.com', \n",
    "                      password     = 'yourpassword')\n",
    "            print( 'End of Web scraping action')\n",
    "            break\n",
    "    f.close() \n",
    "    g.close()\n",
    "    h.close()\n",
    "    \n"
   ]
  },
  {
   "cell_type": "code",
   "execution_count": 14,
   "metadata": {
    "collapsed": true
   },
   "outputs": [],
   "source": [
    "df= pd.read_csv('output.csv')"
   ]
  },
  {
   "cell_type": "code",
   "execution_count": 15,
   "metadata": {},
   "outputs": [
    {
     "data": {
      "text/html": [
       "<div>\n",
       "<style scoped>\n",
       "    .dataframe tbody tr th:only-of-type {\n",
       "        vertical-align: middle;\n",
       "    }\n",
       "\n",
       "    .dataframe tbody tr th {\n",
       "        vertical-align: top;\n",
       "    }\n",
       "\n",
       "    .dataframe thead th {\n",
       "        text-align: right;\n",
       "    }\n",
       "</style>\n",
       "<table border=\"1\" class=\"dataframe\">\n",
       "  <thead>\n",
       "    <tr style=\"text-align: right;\">\n",
       "      <th></th>\n",
       "      <th>Time</th>\n",
       "      <th>TemperatureC</th>\n",
       "      <th>Humidity</th>\n",
       "      <th>Wind_Direction</th>\n",
       "      <th>Conditions</th>\n",
       "      <th>Date</th>\n",
       "      <th>DoW</th>\n",
       "      <th>DoM</th>\n",
       "      <th>WoY</th>\n",
       "      <th>MoY</th>\n",
       "      <th>QoY</th>\n",
       "      <th>H</th>\n",
       "      <th>HMS</th>\n",
       "      <th>schedule</th>\n",
       "    </tr>\n",
       "  </thead>\n",
       "  <tbody>\n",
       "    <tr>\n",
       "      <th>0</th>\n",
       "      <td>2017-11-01 00:00:00</td>\n",
       "      <td>7.0</td>\n",
       "      <td>73</td>\n",
       "      <td>East</td>\n",
       "      <td>Clear</td>\n",
       "      <td>2017-11-01</td>\n",
       "      <td>4</td>\n",
       "      <td>1</td>\n",
       "      <td>44</td>\n",
       "      <td>11</td>\n",
       "      <td>2017Q4</td>\n",
       "      <td>0</td>\n",
       "      <td>00:00:00</td>\n",
       "      <td>a_day_off</td>\n",
       "    </tr>\n",
       "    <tr>\n",
       "      <th>1</th>\n",
       "      <td>2017-11-01 00:00:00</td>\n",
       "      <td>7.0</td>\n",
       "      <td>76</td>\n",
       "      <td>East</td>\n",
       "      <td>Clear</td>\n",
       "      <td>2017-11-01</td>\n",
       "      <td>4</td>\n",
       "      <td>1</td>\n",
       "      <td>44</td>\n",
       "      <td>11</td>\n",
       "      <td>2017Q4</td>\n",
       "      <td>0</td>\n",
       "      <td>00:00:00</td>\n",
       "      <td>a_day_off</td>\n",
       "    </tr>\n",
       "  </tbody>\n",
       "</table>\n",
       "</div>"
      ],
      "text/plain": [
       "                  Time  TemperatureC  Humidity Wind_Direction Conditions  \\\n",
       "0  2017-11-01 00:00:00           7.0        73           East      Clear   \n",
       "1  2017-11-01 00:00:00           7.0        76           East      Clear   \n",
       "\n",
       "         Date  DoW  DoM  WoY  MoY     QoY  H       HMS   schedule  \n",
       "0  2017-11-01    4    1   44   11  2017Q4  0  00:00:00  a_day_off  \n",
       "1  2017-11-01    4    1   44   11  2017Q4  0  00:00:00  a_day_off  "
      ]
     },
     "execution_count": 15,
     "metadata": {},
     "output_type": "execute_result"
    }
   ],
   "source": [
    "df.head(2)"
   ]
  },
  {
   "cell_type": "code",
   "execution_count": 16,
   "metadata": {},
   "outputs": [
    {
     "data": {
      "text/html": [
       "<div>\n",
       "<style scoped>\n",
       "    .dataframe tbody tr th:only-of-type {\n",
       "        vertical-align: middle;\n",
       "    }\n",
       "\n",
       "    .dataframe tbody tr th {\n",
       "        vertical-align: top;\n",
       "    }\n",
       "\n",
       "    .dataframe thead th {\n",
       "        text-align: right;\n",
       "    }\n",
       "</style>\n",
       "<table border=\"1\" class=\"dataframe\">\n",
       "  <thead>\n",
       "    <tr style=\"text-align: right;\">\n",
       "      <th></th>\n",
       "      <th>Time</th>\n",
       "      <th>TemperatureC</th>\n",
       "      <th>Humidity</th>\n",
       "      <th>Wind_Direction</th>\n",
       "      <th>Conditions</th>\n",
       "      <th>Date</th>\n",
       "      <th>DoW</th>\n",
       "      <th>DoM</th>\n",
       "      <th>WoY</th>\n",
       "      <th>MoY</th>\n",
       "      <th>QoY</th>\n",
       "      <th>H</th>\n",
       "      <th>HMS</th>\n",
       "      <th>schedule</th>\n",
       "    </tr>\n",
       "  </thead>\n",
       "  <tbody>\n",
       "    <tr>\n",
       "      <th>198</th>\n",
       "      <td>2017-11-03 23:00:00</td>\n",
       "      <td>11.0</td>\n",
       "      <td>94</td>\n",
       "      <td>North</td>\n",
       "      <td>Patches of Fog</td>\n",
       "      <td>2017-11-03</td>\n",
       "      <td>6</td>\n",
       "      <td>3</td>\n",
       "      <td>44</td>\n",
       "      <td>11</td>\n",
       "      <td>2017Q4</td>\n",
       "      <td>23</td>\n",
       "      <td>23:00:00</td>\n",
       "      <td>holidays</td>\n",
       "    </tr>\n",
       "    <tr>\n",
       "      <th>199</th>\n",
       "      <td>2017-11-03 23:30:00</td>\n",
       "      <td>10.0</td>\n",
       "      <td>94</td>\n",
       "      <td>Variable</td>\n",
       "      <td>Patches of Fog</td>\n",
       "      <td>2017-11-03</td>\n",
       "      <td>6</td>\n",
       "      <td>3</td>\n",
       "      <td>44</td>\n",
       "      <td>11</td>\n",
       "      <td>2017Q4</td>\n",
       "      <td>23</td>\n",
       "      <td>23:30:00</td>\n",
       "      <td>holidays</td>\n",
       "    </tr>\n",
       "  </tbody>\n",
       "</table>\n",
       "</div>"
      ],
      "text/plain": [
       "                    Time  TemperatureC  Humidity Wind_Direction  \\\n",
       "198  2017-11-03 23:00:00          11.0        94          North   \n",
       "199  2017-11-03 23:30:00          10.0        94       Variable   \n",
       "\n",
       "         Conditions        Date  DoW  DoM  WoY  MoY     QoY   H       HMS  \\\n",
       "198  Patches of Fog  2017-11-03    6    3   44   11  2017Q4  23  23:00:00   \n",
       "199  Patches of Fog  2017-11-03    6    3   44   11  2017Q4  23  23:30:00   \n",
       "\n",
       "     schedule  \n",
       "198  holidays  \n",
       "199  holidays  "
      ]
     },
     "execution_count": 16,
     "metadata": {},
     "output_type": "execute_result"
    }
   ],
   "source": [
    "df.tail(2)"
   ]
  },
  {
   "cell_type": "code",
   "execution_count": 17,
   "metadata": {},
   "outputs": [
    {
     "data": {
      "text/plain": [
       "(200, 14)"
      ]
     },
     "execution_count": 17,
     "metadata": {},
     "output_type": "execute_result"
    }
   ],
   "source": [
    "df.shape"
   ]
  }
 ],
 "metadata": {
  "kernelspec": {
   "display_name": "Python 3",
   "language": "python",
   "name": "python3"
  },
  "language_info": {
   "codemirror_mode": {
    "name": "ipython",
    "version": 3
   },
   "file_extension": ".py",
   "mimetype": "text/x-python",
   "name": "python",
   "nbconvert_exporter": "python",
   "pygments_lexer": "ipython3",
   "version": "3.6.1"
  }
 },
 "nbformat": 4,
 "nbformat_minor": 2
}
